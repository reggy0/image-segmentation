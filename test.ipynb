{
  "nbformat": 4,
  "nbformat_minor": 0,
  "metadata": {
    "colab": {
      "name": "test.ipynb",
      "provenance": [],
      "authorship_tag": "ABX9TyPU4NJxB/h9tngTnvfw345C",
      "include_colab_link": true
    },
    "kernelspec": {
      "name": "python3",
      "display_name": "Python 3"
    },
    "language_info": {
      "name": "python"
    }
  },
  "cells": [
    {
      "cell_type": "markdown",
      "metadata": {
        "id": "view-in-github",
        "colab_type": "text"
      },
      "source": [
        "<a href=\"https://colab.research.google.com/github/reggy0/image-segmentation/blob/main/test.ipynb\" target=\"_parent\"><img src=\"https://colab.research.google.com/assets/colab-badge.svg\" alt=\"Open In Colab\"/></a>"
      ]
    },
    {
      "cell_type": "code",
      "execution_count": null,
      "metadata": {
        "id": "aigQOuZaxJne"
      },
      "outputs": [],
      "source": [
        "# Copyright 2020 D-Wave Systems Inc.\n",
        "#\n",
        "# Licensed under the Apache License, Version 2.0 (the \"License\");\n",
        "# you may not use this file except in compliance with the License.\n",
        "# You may obtain a copy of the License at\n",
        "#\n",
        "#     http://www.apache.org/licenses/LICENSE-2.0\n",
        "#\n",
        "# Unless required by applicable law or agreed to in writing, software\n",
        "# distributed under the License is distributed on an \"AS IS\" BASIS,\n",
        "# WITHOUT WARRANTIES OR CONDITIONS OF ANY KIND, either express or implied.\n",
        "# See the License for the specific language governing permissions and\n",
        "# limitations under the License.\n",
        "\n",
        "from subprocess import Popen, PIPE,STDOUT\n",
        "import os\n",
        "import sys\n",
        "import unittest\n",
        "\n",
        "project_dir = os.path.dirname(os.path.dirname(os.path.abspath(__file__)))\n",
        "\n",
        "class IntegrationTests(unittest.TestCase):\n",
        "\n",
        "    def test_image_segmentation(self):\n",
        "        file_name = os.path.join(project_dir, 'image_segmentation.py')\n",
        "        p = Popen([sys.executable, file_name], stdout=PIPE, stdin=PIPE, stderr=STDOUT)\n",
        "        p.stdin.write(b'10\\n')\n",
        "        p.stdin.write(b'10\\n')\n",
        "        output = p.communicate()[0]\n",
        "        output = str(output).upper()\n",
        "        if os.getenv('DEBUG_OUTPUT'):\n",
        "            print(\"Example output \\n\"+ output)\n",
        "\n",
        "        with self.subTest(msg=\"Verify if output is generated successfully\"):\n",
        "            self.assertIn(\"Output file generated successfully\".upper(), output)\n",
        "        with self.subTest(msg=\"Verify if error string contains in output\"):\n",
        "            self.assertNotIn(\"ERROR\", output)\n",
        "        with self.subTest(msg=\"Verify if warning string contains in output\"):\n",
        "            self.assertNotIn(\"WARNING\", output)\n",
        "\n",
        "if __name__ == '__main__':\n",
        "    unittest.main()"
      ]
    }
  ]
}